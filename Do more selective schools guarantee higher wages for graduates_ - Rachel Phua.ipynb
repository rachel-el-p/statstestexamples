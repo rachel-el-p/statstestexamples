{
 "cells": [
  {
   "cell_type": "code",
   "execution_count": 1,
   "id": "747e33b6",
   "metadata": {},
   "outputs": [],
   "source": [
    "%load_ext rpy2.ipython\n",
    "%load_ext autoreload\n",
    "%autoreload 2\n",
    "\n",
    "%matplotlib inline  \n",
    "from matplotlib import rcParams\n",
    "rcParams['figure.figsize'] = (16, 100)\n",
    "\n",
    "import warnings\n",
    "from rpy2.rinterface import RRuntimeWarning\n",
    "warnings.filterwarnings(\"ignore\") # Ignore all warnings\n",
    "# warnings.filterwarnings(\"ignore\", category=RRuntimeWarning) # Show some warnings\n",
    "\n",
    "import pandas as pd\n",
    "import numpy as np\n",
    "import matplotlib.pyplot as plt\n",
    "from IPython.display import display, HTML"
   ]
  },
  {
   "cell_type": "code",
   "execution_count": 2,
   "id": "1d398d58",
   "metadata": {},
   "outputs": [
    {
     "data": {
      "application/javascript": [
       "// Disable auto-scrolling\n",
       "IPython.OutputArea.prototype._should_scroll = function(lines) {\n",
       "    return false;\n",
       "}\n"
      ],
      "text/plain": [
       "<IPython.core.display.Javascript object>"
      ]
     },
     "metadata": {},
     "output_type": "display_data"
    }
   ],
   "source": [
    "%%javascript\n",
    "// Disable auto-scrolling\n",
    "IPython.OutputArea.prototype._should_scroll = function(lines) {\n",
    "    return false;\n",
    "}"
   ]
  },
  {
   "cell_type": "code",
   "execution_count": 3,
   "id": "2c351d71",
   "metadata": {},
   "outputs": [
    {
     "name": "stderr",
     "output_type": "stream",
     "text": [
      "R[write to console]: Loading required package: tidyverse\n",
      "\n"
     ]
    },
    {
     "name": "stdout",
     "output_type": "stream",
     "text": [
      "── Attaching core tidyverse packages ──────────────────────── tidyverse 2.0.0 ──\n",
      "✔ dplyr     1.1.0     ✔ readr     2.1.4\n",
      "✔ forcats   1.0.0     ✔ stringr   1.5.0\n",
      "✔ ggplot2   3.4.1     ✔ tibble    3.1.8\n",
      "✔ lubridate 1.9.2     ✔ tidyr     1.3.0\n",
      "✔ purrr     1.0.1     \n",
      "── Conflicts ────────────────────────────────────────── tidyverse_conflicts() ──\n",
      "✖ dplyr::filter() masks stats::filter()\n",
      "✖ dplyr::lag()    masks stats::lag()\n",
      "ℹ Use the conflicted package (<http://conflicted.r-lib.org/>) to force all conflicts to become errors\n"
     ]
    },
    {
     "name": "stderr",
     "output_type": "stream",
     "text": [
      "R[write to console]: Loading required package: ggrepel\n",
      "\n"
     ]
    }
   ],
   "source": [
    "%%R\n",
    "\n",
    "# My commonly used R imports\n",
    "\n",
    "require('tidyverse')\n",
    "require('ggrepel')"
   ]
  },
  {
   "cell_type": "code",
   "execution_count": 12,
   "id": "470e07d3",
   "metadata": {},
   "outputs": [
    {
     "name": "stdout",
     "output_type": "stream",
     "text": [
      "Rows: 6681 Columns: 2989\n",
      "── Column specification ────────────────────────────────────────────────────────\n",
      "Delimiter: \",\"\n",
      "chr (2973): OPEID, OPEID6, INSTNM, CITY, STABBR, ZIP, ACCREDAGENCY, INSTURL,...\n",
      "dbl   (16): UNITID, HCM2, MAIN, NUMBRANCH, PREDDEG, HIGHDEG, CONTROL, ST_FIP...\n",
      "\n",
      "ℹ Use `spec()` to retrieve the full column specification for this data.\n",
      "ℹ Specify the column types or set `show_col_types = FALSE` to quiet this message.\n"
     ]
    }
   ],
   "source": [
    "%%R\n",
    "\n",
    "# Read data\n",
    "df <- read_csv('/Users/rachelp/Downloads/Most-Recent-Cohorts-Institution.csv')"
   ]
  },
  {
   "cell_type": "code",
   "execution_count": 13,
   "id": "35a96deb",
   "metadata": {},
   "outputs": [],
   "source": [
    "df=pd.read_csv('/Users/rachelp/Downloads/Most-Recent-Cohorts-Institution.csv')"
   ]
  },
  {
   "cell_type": "code",
   "execution_count": 14,
   "id": "acf1317d",
   "metadata": {},
   "outputs": [
    {
     "data": {
      "text/html": [
       "<div>\n",
       "<style scoped>\n",
       "    .dataframe tbody tr th:only-of-type {\n",
       "        vertical-align: middle;\n",
       "    }\n",
       "\n",
       "    .dataframe tbody tr th {\n",
       "        vertical-align: top;\n",
       "    }\n",
       "\n",
       "    .dataframe thead th {\n",
       "        text-align: right;\n",
       "    }\n",
       "</style>\n",
       "<table border=\"1\" class=\"dataframe\">\n",
       "  <thead>\n",
       "    <tr style=\"text-align: right;\">\n",
       "      <th></th>\n",
       "      <th>UNITID</th>\n",
       "      <th>OPEID</th>\n",
       "      <th>OPEID6</th>\n",
       "      <th>INSTNM</th>\n",
       "      <th>CITY</th>\n",
       "      <th>STABBR</th>\n",
       "      <th>ZIP</th>\n",
       "      <th>ACCREDAGENCY</th>\n",
       "      <th>INSTURL</th>\n",
       "      <th>NPCURL</th>\n",
       "      <th>...</th>\n",
       "      <th>COUNT_WNE_MALE1_P8</th>\n",
       "      <th>MD_EARN_WNE_MALE1_P8</th>\n",
       "      <th>GT_THRESHOLD_P10</th>\n",
       "      <th>MD_EARN_WNE_INC1_P10</th>\n",
       "      <th>MD_EARN_WNE_INC2_P10</th>\n",
       "      <th>MD_EARN_WNE_INC3_P10</th>\n",
       "      <th>MD_EARN_WNE_INDEP1_P10</th>\n",
       "      <th>MD_EARN_WNE_INDEP0_P10</th>\n",
       "      <th>MD_EARN_WNE_MALE0_P10</th>\n",
       "      <th>MD_EARN_WNE_MALE1_P10</th>\n",
       "    </tr>\n",
       "  </thead>\n",
       "  <tbody>\n",
       "    <tr>\n",
       "      <th>0</th>\n",
       "      <td>100654</td>\n",
       "      <td>100200.0</td>\n",
       "      <td>1002.0</td>\n",
       "      <td>Alabama A &amp; M University</td>\n",
       "      <td>Normal</td>\n",
       "      <td>AL</td>\n",
       "      <td>35762</td>\n",
       "      <td>Southern Association of Colleges and Schools C...</td>\n",
       "      <td>www.aamu.edu/</td>\n",
       "      <td>www.aamu.edu/admissions-aid/tuition-fees/net-p...</td>\n",
       "      <td>...</td>\n",
       "      <td>834.0</td>\n",
       "      <td>36639.0</td>\n",
       "      <td>0.6044</td>\n",
       "      <td>34076.0</td>\n",
       "      <td>35597.0</td>\n",
       "      <td>43145.0</td>\n",
       "      <td>40299.0</td>\n",
       "      <td>35424.0</td>\n",
       "      <td>36050.0</td>\n",
       "      <td>36377.0</td>\n",
       "    </tr>\n",
       "    <tr>\n",
       "      <th>1</th>\n",
       "      <td>100663</td>\n",
       "      <td>105200.0</td>\n",
       "      <td>1052.0</td>\n",
       "      <td>University of Alabama at Birmingham</td>\n",
       "      <td>Birmingham</td>\n",
       "      <td>AL</td>\n",
       "      <td>35294-0110</td>\n",
       "      <td>Southern Association of Colleges and Schools C...</td>\n",
       "      <td>https://www.uab.edu/</td>\n",
       "      <td>https://tcc.ruffalonl.com/University of Alabam...</td>\n",
       "      <td>...</td>\n",
       "      <td>1233.0</td>\n",
       "      <td>49652.0</td>\n",
       "      <td>0.7472</td>\n",
       "      <td>42254.0</td>\n",
       "      <td>49817.0</td>\n",
       "      <td>51571.0</td>\n",
       "      <td>48182.0</td>\n",
       "      <td>46435.0</td>\n",
       "      <td>42007.0</td>\n",
       "      <td>56164.0</td>\n",
       "    </tr>\n",
       "    <tr>\n",
       "      <th>2</th>\n",
       "      <td>100690</td>\n",
       "      <td>2503400.0</td>\n",
       "      <td>25034.0</td>\n",
       "      <td>Amridge University</td>\n",
       "      <td>Montgomery</td>\n",
       "      <td>AL</td>\n",
       "      <td>36117-3553</td>\n",
       "      <td>Southern Association of Colleges and Schools C...</td>\n",
       "      <td>www.amridgeuniversity.edu/</td>\n",
       "      <td>www2.amridgeuniversity.edu:9091/</td>\n",
       "      <td>...</td>\n",
       "      <td>78.0</td>\n",
       "      <td>50355.0</td>\n",
       "      <td>0.6286</td>\n",
       "      <td>36636.0</td>\n",
       "      <td>44836.0</td>\n",
       "      <td>NaN</td>\n",
       "      <td>39040.0</td>\n",
       "      <td>NaN</td>\n",
       "      <td>32311.0</td>\n",
       "      <td>49599.0</td>\n",
       "    </tr>\n",
       "    <tr>\n",
       "      <th>3</th>\n",
       "      <td>100706</td>\n",
       "      <td>105500.0</td>\n",
       "      <td>1055.0</td>\n",
       "      <td>University of Alabama in Huntsville</td>\n",
       "      <td>Huntsville</td>\n",
       "      <td>AL</td>\n",
       "      <td>35899</td>\n",
       "      <td>Southern Association of Colleges and Schools C...</td>\n",
       "      <td>www.uah.edu/</td>\n",
       "      <td>finaid.uah.edu/</td>\n",
       "      <td>...</td>\n",
       "      <td>891.0</td>\n",
       "      <td>57542.0</td>\n",
       "      <td>0.7769</td>\n",
       "      <td>49469.0</td>\n",
       "      <td>60533.0</td>\n",
       "      <td>57411.0</td>\n",
       "      <td>56884.0</td>\n",
       "      <td>53803.0</td>\n",
       "      <td>45170.0</td>\n",
       "      <td>66070.0</td>\n",
       "    </tr>\n",
       "    <tr>\n",
       "      <th>4</th>\n",
       "      <td>100724</td>\n",
       "      <td>100500.0</td>\n",
       "      <td>1005.0</td>\n",
       "      <td>Alabama State University</td>\n",
       "      <td>Montgomery</td>\n",
       "      <td>AL</td>\n",
       "      <td>36104-0271</td>\n",
       "      <td>Southern Association of Colleges and Schools C...</td>\n",
       "      <td>www.alasu.edu/</td>\n",
       "      <td>www.alasu.edu/cost-aid/tuition-costs/net-price...</td>\n",
       "      <td>...</td>\n",
       "      <td>1077.0</td>\n",
       "      <td>32797.0</td>\n",
       "      <td>0.5178</td>\n",
       "      <td>30634.0</td>\n",
       "      <td>34533.0</td>\n",
       "      <td>38216.0</td>\n",
       "      <td>30602.0</td>\n",
       "      <td>32364.0</td>\n",
       "      <td>29836.0</td>\n",
       "      <td>35315.0</td>\n",
       "    </tr>\n",
       "  </tbody>\n",
       "</table>\n",
       "<p>5 rows × 2989 columns</p>\n",
       "</div>"
      ],
      "text/plain": [
       "   UNITID      OPEID   OPEID6                               INSTNM  \\\n",
       "0  100654   100200.0   1002.0             Alabama A & M University   \n",
       "1  100663   105200.0   1052.0  University of Alabama at Birmingham   \n",
       "2  100690  2503400.0  25034.0                   Amridge University   \n",
       "3  100706   105500.0   1055.0  University of Alabama in Huntsville   \n",
       "4  100724   100500.0   1005.0             Alabama State University   \n",
       "\n",
       "         CITY STABBR         ZIP  \\\n",
       "0      Normal     AL       35762   \n",
       "1  Birmingham     AL  35294-0110   \n",
       "2  Montgomery     AL  36117-3553   \n",
       "3  Huntsville     AL       35899   \n",
       "4  Montgomery     AL  36104-0271   \n",
       "\n",
       "                                        ACCREDAGENCY  \\\n",
       "0  Southern Association of Colleges and Schools C...   \n",
       "1  Southern Association of Colleges and Schools C...   \n",
       "2  Southern Association of Colleges and Schools C...   \n",
       "3  Southern Association of Colleges and Schools C...   \n",
       "4  Southern Association of Colleges and Schools C...   \n",
       "\n",
       "                      INSTURL  \\\n",
       "0               www.aamu.edu/   \n",
       "1        https://www.uab.edu/   \n",
       "2  www.amridgeuniversity.edu/   \n",
       "3                www.uah.edu/   \n",
       "4              www.alasu.edu/   \n",
       "\n",
       "                                              NPCURL  ...  COUNT_WNE_MALE1_P8  \\\n",
       "0  www.aamu.edu/admissions-aid/tuition-fees/net-p...  ...               834.0   \n",
       "1  https://tcc.ruffalonl.com/University of Alabam...  ...              1233.0   \n",
       "2                   www2.amridgeuniversity.edu:9091/  ...                78.0   \n",
       "3                                    finaid.uah.edu/  ...               891.0   \n",
       "4  www.alasu.edu/cost-aid/tuition-costs/net-price...  ...              1077.0   \n",
       "\n",
       "   MD_EARN_WNE_MALE1_P8  GT_THRESHOLD_P10  MD_EARN_WNE_INC1_P10  \\\n",
       "0               36639.0            0.6044               34076.0   \n",
       "1               49652.0            0.7472               42254.0   \n",
       "2               50355.0            0.6286               36636.0   \n",
       "3               57542.0            0.7769               49469.0   \n",
       "4               32797.0            0.5178               30634.0   \n",
       "\n",
       "   MD_EARN_WNE_INC2_P10  MD_EARN_WNE_INC3_P10  MD_EARN_WNE_INDEP1_P10  \\\n",
       "0               35597.0               43145.0                 40299.0   \n",
       "1               49817.0               51571.0                 48182.0   \n",
       "2               44836.0                   NaN                 39040.0   \n",
       "3               60533.0               57411.0                 56884.0   \n",
       "4               34533.0               38216.0                 30602.0   \n",
       "\n",
       "   MD_EARN_WNE_INDEP0_P10  MD_EARN_WNE_MALE0_P10  MD_EARN_WNE_MALE1_P10  \n",
       "0                 35424.0                36050.0                36377.0  \n",
       "1                 46435.0                42007.0                56164.0  \n",
       "2                     NaN                32311.0                49599.0  \n",
       "3                 53803.0                45170.0                66070.0  \n",
       "4                 32364.0                29836.0                35315.0  \n",
       "\n",
       "[5 rows x 2989 columns]"
      ]
     },
     "execution_count": 14,
     "metadata": {},
     "output_type": "execute_result"
    }
   ],
   "source": [
    "df.head()"
   ]
  },
  {
   "cell_type": "code",
   "execution_count": 15,
   "id": "1883a512",
   "metadata": {},
   "outputs": [
    {
     "data": {
      "text/plain": [
       "UNITID                      int64\n",
       "OPEID                     float64\n",
       "OPEID6                    float64\n",
       "INSTNM                     object\n",
       "CITY                       object\n",
       "                           ...   \n",
       "MD_EARN_WNE_INC3_P10      float64\n",
       "MD_EARN_WNE_INDEP1_P10    float64\n",
       "MD_EARN_WNE_INDEP0_P10    float64\n",
       "MD_EARN_WNE_MALE0_P10     float64\n",
       "MD_EARN_WNE_MALE1_P10     float64\n",
       "Length: 2989, dtype: object"
      ]
     },
     "execution_count": 15,
     "metadata": {},
     "output_type": "execute_result"
    }
   ],
   "source": [
    "df.dtypes"
   ]
  },
  {
   "cell_type": "code",
   "execution_count": 23,
   "id": "d2ae8314",
   "metadata": {},
   "outputs": [
    {
     "name": "stdout",
     "output_type": "stream",
     "text": [
      "Column 'EARN_MDN_HI_2YR' is not in the DataFrame\n"
     ]
    }
   ],
   "source": [
    "if 'EARN_MDN_HI_2YR' in df.columns.tolist():\n",
    "    print(\"Column 'EARN_MDN_HI_2YR' is in the DataFrame\")\n",
    "else:\n",
    "    print(\"Column 'EARN_MDN_HI_2YR' is not in the DataFrame\")"
   ]
  },
  {
   "cell_type": "markdown",
   "id": "c5f0e229",
   "metadata": {},
   "source": [
    "## My question is: Do more selective schools guarantee higher wages for graduates?\n",
    "* Hypothesis: Schools that require higher SAT scores guarantee higher wages \n",
    "* Null hypothesis: SAT scores do not matter when picking a school that will guarantee higher wages "
   ]
  },
  {
   "cell_type": "code",
   "execution_count": 24,
   "id": "fb3c4120",
   "metadata": {},
   "outputs": [],
   "source": [
    "import pandas as pd\n",
    "\n",
    "df_2= df[['INSTNM', 'SAT_AVG', 'MD_EARN_WNE_P6']]"
   ]
  },
  {
   "cell_type": "code",
   "execution_count": 25,
   "id": "b80b7d36",
   "metadata": {},
   "outputs": [
    {
     "data": {
      "text/html": [
       "<div>\n",
       "<style scoped>\n",
       "    .dataframe tbody tr th:only-of-type {\n",
       "        vertical-align: middle;\n",
       "    }\n",
       "\n",
       "    .dataframe tbody tr th {\n",
       "        vertical-align: top;\n",
       "    }\n",
       "\n",
       "    .dataframe thead th {\n",
       "        text-align: right;\n",
       "    }\n",
       "</style>\n",
       "<table border=\"1\" class=\"dataframe\">\n",
       "  <thead>\n",
       "    <tr style=\"text-align: right;\">\n",
       "      <th></th>\n",
       "      <th>INSTNM</th>\n",
       "      <th>SAT_AVG</th>\n",
       "      <th>MD_EARN_WNE_P6</th>\n",
       "    </tr>\n",
       "  </thead>\n",
       "  <tbody>\n",
       "    <tr>\n",
       "      <th>0</th>\n",
       "      <td>Alabama A &amp; M University</td>\n",
       "      <td>959.0</td>\n",
       "      <td>28704.0</td>\n",
       "    </tr>\n",
       "    <tr>\n",
       "      <th>1</th>\n",
       "      <td>University of Alabama at Birmingham</td>\n",
       "      <td>1245.0</td>\n",
       "      <td>39271.0</td>\n",
       "    </tr>\n",
       "    <tr>\n",
       "      <th>2</th>\n",
       "      <td>Amridge University</td>\n",
       "      <td>NaN</td>\n",
       "      <td>32939.0</td>\n",
       "    </tr>\n",
       "    <tr>\n",
       "      <th>3</th>\n",
       "      <td>University of Alabama in Huntsville</td>\n",
       "      <td>1300.0</td>\n",
       "      <td>47533.0</td>\n",
       "    </tr>\n",
       "    <tr>\n",
       "      <th>4</th>\n",
       "      <td>Alabama State University</td>\n",
       "      <td>938.0</td>\n",
       "      <td>25949.0</td>\n",
       "    </tr>\n",
       "    <tr>\n",
       "      <th>...</th>\n",
       "      <td>...</td>\n",
       "      <td>...</td>\n",
       "      <td>...</td>\n",
       "    </tr>\n",
       "    <tr>\n",
       "      <th>6676</th>\n",
       "      <td>Pennsylvania State University-Penn State Wilke...</td>\n",
       "      <td>NaN</td>\n",
       "      <td>NaN</td>\n",
       "    </tr>\n",
       "    <tr>\n",
       "      <th>6677</th>\n",
       "      <td>Pennsylvania State University-Penn State York</td>\n",
       "      <td>NaN</td>\n",
       "      <td>NaN</td>\n",
       "    </tr>\n",
       "    <tr>\n",
       "      <th>6678</th>\n",
       "      <td>Pennsylvania State University-Penn State Great...</td>\n",
       "      <td>NaN</td>\n",
       "      <td>NaN</td>\n",
       "    </tr>\n",
       "    <tr>\n",
       "      <th>6679</th>\n",
       "      <td>Pennsylvania State University-Penn State Harri...</td>\n",
       "      <td>NaN</td>\n",
       "      <td>NaN</td>\n",
       "    </tr>\n",
       "    <tr>\n",
       "      <th>6680</th>\n",
       "      <td>Pennsylvania State University-Penn State Brand...</td>\n",
       "      <td>NaN</td>\n",
       "      <td>NaN</td>\n",
       "    </tr>\n",
       "  </tbody>\n",
       "</table>\n",
       "<p>6681 rows × 3 columns</p>\n",
       "</div>"
      ],
      "text/plain": [
       "                                                 INSTNM  SAT_AVG  \\\n",
       "0                              Alabama A & M University    959.0   \n",
       "1                   University of Alabama at Birmingham   1245.0   \n",
       "2                                    Amridge University      NaN   \n",
       "3                   University of Alabama in Huntsville   1300.0   \n",
       "4                              Alabama State University    938.0   \n",
       "...                                                 ...      ...   \n",
       "6676  Pennsylvania State University-Penn State Wilke...      NaN   \n",
       "6677      Pennsylvania State University-Penn State York      NaN   \n",
       "6678  Pennsylvania State University-Penn State Great...      NaN   \n",
       "6679  Pennsylvania State University-Penn State Harri...      NaN   \n",
       "6680  Pennsylvania State University-Penn State Brand...      NaN   \n",
       "\n",
       "      MD_EARN_WNE_P6  \n",
       "0            28704.0  \n",
       "1            39271.0  \n",
       "2            32939.0  \n",
       "3            47533.0  \n",
       "4            25949.0  \n",
       "...              ...  \n",
       "6676             NaN  \n",
       "6677             NaN  \n",
       "6678             NaN  \n",
       "6679             NaN  \n",
       "6680             NaN  \n",
       "\n",
       "[6681 rows x 3 columns]"
      ]
     },
     "execution_count": 25,
     "metadata": {},
     "output_type": "execute_result"
    }
   ],
   "source": [
    "df_2"
   ]
  },
  {
   "cell_type": "code",
   "execution_count": 28,
   "id": "0e701a32",
   "metadata": {},
   "outputs": [],
   "source": [
    "df_2.to_csv('collegecost.csv', index=False)"
   ]
  },
  {
   "cell_type": "code",
   "execution_count": 26,
   "id": "dc9a6ee1",
   "metadata": {},
   "outputs": [],
   "source": [
    "%%R\n",
    "\n",
    "require('ggrepel')"
   ]
  },
  {
   "cell_type": "code",
   "execution_count": 27,
   "id": "a334d292",
   "metadata": {},
   "outputs": [],
   "source": [
    "%%R \n",
    "\n",
    "library(ggrepel)"
   ]
  },
  {
   "cell_type": "code",
   "execution_count": 29,
   "id": "4fb968ed",
   "metadata": {},
   "outputs": [
    {
     "name": "stdout",
     "output_type": "stream",
     "text": [
      "Rows: 6681 Columns: 3\n",
      "── Column specification ────────────────────────────────────────────────────────\n",
      "Delimiter: \",\"\n",
      "chr (1): INSTNM\n",
      "dbl (2): SAT_AVG, MD_EARN_WNE_P6\n",
      "\n",
      "ℹ Use `spec()` to retrieve the full column specification for this data.\n",
      "ℹ Specify the column types or set `show_col_types = FALSE` to quiet this message.\n"
     ]
    }
   ],
   "source": [
    "%%R\n",
    "\n",
    "df_2 <- read_csv('/Users/rachelp/Documents/collegecost.csv')"
   ]
  },
  {
   "cell_type": "code",
   "execution_count": 33,
   "id": "ff057fd8",
   "metadata": {},
   "outputs": [
    {
     "name": "stdout",
     "output_type": "stream",
     "text": [
      "`geom_smooth()` using formula = 'y ~ x'\n"
     ]
    },
    {
     "data": {
      "image/png": "[encoded data removed]"
     },
     "metadata": {},
     "output_type": "display_data"
    }
   ],
   "source": [
    "%%R -i df_2\n",
    "\n",
    "ggplot(df_2) +\n",
    "    aes(x=SAT_AVG, y=MD_EARN_WNE_P6, label=INSTNM) +\n",
    "    scale_y_continuous(labels = function(x) format(x, scientific = FALSE)) +\n",
    "    geom_text_repel() +\n",
    "    geom_point() +\n",
    "    geom_smooth(method='lm')"
   ]
  },
  {
   "cell_type": "code",
   "execution_count": 34,
   "id": "5a0894da",
   "metadata": {},
   "outputs": [
    {
     "name": "stdout",
     "output_type": "stream",
     "text": [
      "\n",
      "Call:\n",
      "lm(formula = MD_EARN_WNE_P6 ~ SAT_AVG, data = df_2)\n",
      "\n",
      "Residuals:\n",
      "   Min     1Q Median     3Q    Max \n",
      "-23087  -5293  -1072   3668  68034 \n",
      "\n",
      "Coefficients:\n",
      "              Estimate Std. Error t value Pr(>|t|)    \n",
      "(Intercept) -23025.858   2361.696   -9.75   <2e-16 ***\n",
      "SAT_AVG         58.619      2.061   28.45   <2e-16 ***\n",
      "---\n",
      "Signif. codes:  0 ‘***’ 0.001 ‘**’ 0.01 ‘*’ 0.05 ‘.’ 0.1 ‘ ’ 1\n",
      "\n",
      "Residual standard error: 8986 on 1112 degrees of freedom\n",
      "  (5567 observations deleted due to missingness)\n",
      "Multiple R-squared:  0.4212,\tAdjusted R-squared:  0.4207 \n",
      "F-statistic: 809.2 on 1 and 1112 DF,  p-value: < 2.2e-16\n",
      "\n"
     ]
    }
   ],
   "source": [
    "%%R -i df_2\n",
    "\n",
    "collegecost <- lm(MD_EARN_WNE_P6 ~ SAT_AVG, data=df_2)\n",
    "summary(collegecost)"
   ]
  },
  {
   "cell_type": "markdown",
   "id": "559e7338",
   "metadata": {},
   "source": [
    "## Given that the p-value is less than 0.05, I can reject the null hypothesis and say that schools that require higher SAT scores guarantee students higher wages 6 years after graduation. \n",
    "* However, only about 40% of the variance in wages can be explained by the SAT scores. \n",
    "* For every 1 point increase in SAT scores, wages go up by about 60 dollars a year."
   ]
  },
  {
   "cell_type": "markdown",
   "id": "bdbc493b",
   "metadata": {},
   "source": [
    "## Now I can try and find the outliers"
   ]
  },
  {
   "cell_type": "code",
   "execution_count": 39,
   "id": "e61173c2",
   "metadata": {},
   "outputs": [
    {
     "name": "stdout",
     "output_type": "stream",
     "text": [
      "                                                      INSTNM MD_EARN_WNE_P6\n",
      "1810 University of Health Sciences and Pharmacy in St. Louis         119219\n",
      "2038          Albany College of Pharmacy and Health Sciences         115752\n",
      "194                       California Institute of Technology         129420\n",
      "1463                                        MCPHS University          96681\n",
      "304                                      Harvey Mudd College         112059\n",
      "1465                   Massachusetts Institute of Technology         112623\n",
      "1466                          Massachusetts Maritime Academy          79354\n",
      "2293                   United States Merchant Marine Academy          87884\n",
      "4481                  Franklin W Olin College of Engineering          98699\n",
      "2277                                   SUNY Maritime College          76793\n",
      "     SAT_AVG predicted_MD_EARN_WNE_P6 residuals residuals_z_scores\n",
      "1810    1266                 51185.28  68033.72           7.574471\n",
      "2038    1238                 49543.96  66208.04           7.371210\n",
      "194     1566                 68770.85  60649.15           6.752316\n",
      "1463    1096                 41220.12  55460.88           6.174685\n",
      "304     1534                 66895.06  45163.94           5.028285\n",
      "1465    1550                 67832.96  44790.04           4.986657\n",
      "1466    1117                 42451.11  36902.89           4.108549\n",
      "2293    1288                 52474.88  35409.12           3.942241\n",
      "4481    1521                 66133.02  32565.98           3.625703\n",
      "2277    1153                 44561.38  32231.62           3.588478\n"
     ]
    }
   ],
   "source": [
    "%%R -i df_2\n",
    "\n",
    "\n",
    "to_plot <- df_2 %>% \n",
    "    # remove nulls\n",
    "    filter(!is.na(MD_EARN_WNE_P6) & !is.na(SAT_AVG)) %>% \n",
    "    select(INSTNM, MD_EARN_WNE_P6, SAT_AVG) %>%\n",
    "    mutate(predicted_MD_EARN_WNE_P6 = predict(collegecost),\n",
    "          residuals = MD_EARN_WNE_P6 - predicted_MD_EARN_WNE_P6,\n",
    "          residuals_z_scores = (residuals - mean(residuals)) / sd(residuals)) %>%\n",
    "    arrange(-residuals_z_scores)\n",
    "to_plot %>% head(10)"
   ]
  },
  {
   "cell_type": "code",
   "execution_count": 43,
   "id": "45bd9d42",
   "metadata": {},
   "outputs": [
    {
     "name": "stdout",
     "output_type": "stream",
     "text": [
      "                              INSTNM MD_EARN_WNE_P6 SAT_AVG\n",
      "4031      Soka University of America          35734    1307\n",
      "644  Florida Institute of Technology          31824    1241\n",
      "1091                Grinnell College          43599    1448\n",
      "2571                 Oberlin College          37507    1348\n",
      "1019                 Earlham College          30866    1236\n",
      "2296                  Vassar College          43438    1456\n",
      "2809               Haverford College          42959    1459\n",
      "3783          New College of Florida          32016    1277\n",
      "2238          Sarah Lawrence College          33991    1333\n",
      "2424           Warren Wilson College          25402    1220\n",
      "     predicted_MD_EARN_WNE_P6 residuals residuals_z_scores\n",
      "4031                 53588.64 -17854.64          -1.987829\n",
      "644                  49719.81 -17895.81          -1.992413\n",
      "1091                 61853.86 -18254.86          -2.032388\n",
      "2571                 55992.00 -18485.00          -2.058010\n",
      "1019                 49426.72 -18560.72          -2.066440\n",
      "2296                 62322.81 -18884.81          -2.102522\n",
      "2809                 62498.66 -19539.66          -2.175430\n",
      "3783                 51830.08 -19814.08          -2.205982\n",
      "2238                 55112.72 -21121.72          -2.351567\n",
      "2424                 48488.82 -23086.82          -2.570349\n"
     ]
    }
   ],
   "source": [
    "%%R\n",
    "\n",
    "to_plot %>% tail(10)"
   ]
  },
  {
   "cell_type": "markdown",
   "id": "ed1e623b",
   "metadata": {},
   "source": [
    "## I think it's unsurprising that schools that specialize in health sciences and engineering guaranteed their students \"value\" in terms of wages when they graduate, while those that specialize in liberal arts had the least amount of \"value.\" \n",
    "* Is there a better way to phrase this?\n",
    "* My follow-up question would be, or this could maybe turn into a feature of: \"Is a liberal arts education worth it?\" and talk to higher education observers and these liberal arts spokespeople, and graduates to find out if they regret going to these colleges. \n",
    "* And on the flipside, a sub-head or a seperate story along the lines of \"The most underrated universities in the U.S.\" and zoom in to lesser-known schools like University of Health Sciences and Pharmacy in St. Louis, Albany College of Pharmacy and Health Sciences, MCPHS University, and SUNY Maritime College and see what kinds of jobs their students are landing. And graduates if they are happy with the program they went to.\n",
    "* Surprisingly, Ivy Leagues and Stanford aren't in the top 10 list. But it's a crude list that finds the median wage of ALL students in the college. Then again, another question is whether an Ivy League education is worth it too. "
   ]
  },
  {
   "cell_type": "code",
   "execution_count": null,
   "id": "2b8db2c8",
   "metadata": {},
   "outputs": [],
   "source": []
  }
 ],
 "metadata": {
  "kernelspec": {
   "display_name": "Python 3 (ipykernel)",
   "language": "python",
   "name": "python3"
  },
  "language_info": {
   "codemirror_mode": {
    "name": "ipython",
    "version": 3
   },
   "file_extension": ".py",
   "mimetype": "text/x-python",
   "name": "python",
   "nbconvert_exporter": "python",
   "pygments_lexer": "ipython3",
   "version": "3.11.0rc2"
  }
 },
 "nbformat": 4,
 "nbformat_minor": 5
}
